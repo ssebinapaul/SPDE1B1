{
 "cells": [
  {
   "cell_type": "markdown",
   "id": "3931dfed-527a-4d83-a4d7-9babfa449143",
   "metadata": {},
   "source": [
    "# CSV Data Cleaning & Transformation\n",
    "\n",
    "Given a CSV file employees.csv with columns:\n",
    "\n",
    "employee_id, name, department, salary, join_date\n",
    "\n",
    "• Load the file using pandas\n",
    "\n",
    "• Remove rows where salary is missing or not a number\n",
    "\n",
    "• Convert join_date to a proper datetime format\n",
    "\n",
    "• Save the cleaned data to a new file employees_clean.csv.\n"
   ]
  },
  {
   "cell_type": "code",
   "execution_count": 1,
   "id": "b1cafa18-6d26-436b-9f3c-4512e4275678",
   "metadata": {},
   "outputs": [
    {
     "name": "stdout",
     "output_type": "stream",
     "text": [
      "Original Data:\n",
      "   employee_id               name   department     salary   join_date\n",
      "0        14474     Tiffany Miller      Support  118089.77  2025-02-12\n",
      "1         6242    Carlos Sullivan      Support   66851.82  2019-04-19\n",
      "2        84915      Cheryl Archer    Marketing   86089.68  2017-11-12\n",
      "3        66321      Aaron Burgess  Engineering  144758.73  2023-11-13\n",
      "4        90482  Angela Valenzuela    Marketing   58504.65  2025-03-07\n",
      "Cleaned data saved to employees_clean.csv\n"
     ]
    }
   ],
   "source": [
    "import pandas as pd\n",
    "\n",
    "df = pd.read_csv(\"employees.csv\")\n",
    "print(\"Original Data:\")\n",
    "print(df.head())\n",
    "\n",
    "df['salary'] = pd.to_numeric(df['salary'], errors='coerce')\n",
    "df = df.dropna(subset=['salary'])\n",
    "\n",
    "df['join_date'] = pd.to_datetime(df['join_date'], errors='coerce')\n",
    "df = df.dropna(subset=['join_date'])\n",
    "\n",
    "df.to_csv(\"employees_clean.csv\", index=False)\n",
    "print(\"Cleaned data saved to employees_clean.csv\")\n"
   ]
  },
  {
   "cell_type": "code",
   "execution_count": null,
   "id": "f82abac8-4e76-40b5-906f-1c1f5336a1eb",
   "metadata": {},
   "outputs": [],
   "source": []
  }
 ],
 "metadata": {
  "kernelspec": {
   "display_name": "Python 3 (ipykernel)",
   "language": "python",
   "name": "python3"
  },
  "language_info": {
   "codemirror_mode": {
    "name": "ipython",
    "version": 3
   },
   "file_extension": ".py",
   "mimetype": "text/x-python",
   "name": "python",
   "nbconvert_exporter": "python",
   "pygments_lexer": "ipython3",
   "version": "3.12.7"
  }
 },
 "nbformat": 4,
 "nbformat_minor": 5
}
